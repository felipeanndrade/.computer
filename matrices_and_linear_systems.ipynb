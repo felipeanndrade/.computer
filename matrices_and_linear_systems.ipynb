{
  "nbformat": 4,
  "nbformat_minor": 0,
  "metadata": {
    "colab": {
      "name": "matrices-and-linear-systems.ipynb",
      "provenance": [],
      "authorship_tag": "ABX9TyNcVX14tNcHd+Ih74r+qkrc",
      "include_colab_link": true
    },
    "kernelspec": {
      "name": "python3",
      "display_name": "Python 3"
    },
    "language_info": {
      "name": "python"
    }
  },
  "cells": [
    {
      "cell_type": "markdown",
      "metadata": {
        "id": "view-in-github",
        "colab_type": "text"
      },
      "source": [
        "<a href=\"https://colab.research.google.com/github/felipeanndrade/.computer/blob/main/matrices_and_linear_systems.ipynb\" target=\"_parent\"><img src=\"https://colab.research.google.com/assets/colab-badge.svg\" alt=\"Open In Colab\"/></a>"
      ]
    },
    {
      "cell_type": "code",
      "execution_count": 20,
      "metadata": {
        "id": "wL85lRkSGXlJ"
      },
      "outputs": [],
      "source": [
        "import numpy as np \n",
        "import matplotlib as plt"
      ]
    },
    {
      "cell_type": "code",
      "source": [
        "A = np.array([[1, 2, 3], [2, 1, -1]])\n",
        "B = np.array([[-2, 0, 1], [3, 0, 1]])\n",
        "C = np.array([[-1], [2], [4]])\n",
        "D = np.array([2, -1])"
      ],
      "metadata": {
        "id": "vIROWrD7vbnq"
      },
      "execution_count": 16,
      "outputs": []
    }
  ]
}